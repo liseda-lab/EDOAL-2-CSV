{
 "cells": [
  {
   "cell_type": "markdown",
   "metadata": {},
   "source": [
    "# EDOAL-2-CSV Tutorial"
   ]
  },
  {
   "cell_type": "code",
   "execution_count": 1,
   "metadata": {},
   "outputs": [],
   "source": [
    "import xml.etree.ElementTree as ET\n",
    "import pandas as pd\n",
    "import re\n",
    "import os\n",
    "from utils import Parser"
   ]
  },
  {
   "cell_type": "markdown",
   "metadata": {},
   "source": [
    "## Conference example\n",
    "\n",
    "There are two types of parsers, depending on whether the EDOAL namespace in your EDOAL file is \"http://ns.inria.org/edoal/1.0/\" or \"http://ns.inria.org/edoal/1.0/#\". Alignments that use the latter EDOAL namespace are usually reference alignments."
   ]
  },
  {
   "cell_type": "code",
   "execution_count": 2,
   "metadata": {},
   "outputs": [],
   "source": [
    "p = Parser(False) # For http://ns.inria.org/edoal/1.0/ files\n",
    "pref = Parser(True) # For http://ns.inria.org/edoal/1.0/# files"
   ]
  },
  {
   "cell_type": "markdown",
   "metadata": {},
   "source": [
    "Load the EDOAL alignment you want to convert, extract its mappings and then save it as a CSV."
   ]
  },
  {
   "cell_type": "code",
   "execution_count": 3,
   "metadata": {},
   "outputs": [
    {
     "data": {
      "text/html": [
       "<div>\n",
       "<style scoped>\n",
       "    .dataframe tbody tr th:only-of-type {\n",
       "        vertical-align: middle;\n",
       "    }\n",
       "\n",
       "    .dataframe tbody tr th {\n",
       "        vertical-align: top;\n",
       "    }\n",
       "\n",
       "    .dataframe thead th {\n",
       "        text-align: right;\n",
       "    }\n",
       "</style>\n",
       "<table border=\"1\" class=\"dataframe\">\n",
       "  <thead>\n",
       "    <tr style=\"text-align: right;\">\n",
       "      <th></th>\n",
       "      <th>ent1_type</th>\n",
       "      <th>entity1</th>\n",
       "      <th>constructor1</th>\n",
       "      <th>ent2_type</th>\n",
       "      <th>entity2</th>\n",
       "      <th>constructor2</th>\n",
       "      <th>type_of_alignment</th>\n",
       "      <th>measure</th>\n",
       "      <th>relation</th>\n",
       "    </tr>\n",
       "  </thead>\n",
       "  <tbody>\n",
       "    <tr>\n",
       "      <th>0</th>\n",
       "      <td>Class</td>\n",
       "      <td>http://cmt#Paper</td>\n",
       "      <td>-</td>\n",
       "      <td>Class</td>\n",
       "      <td>http://conference#Conference_contribution</td>\n",
       "      <td>-</td>\n",
       "      <td>Simple</td>\n",
       "      <td>1.0</td>\n",
       "      <td>=</td>\n",
       "    </tr>\n",
       "    <tr>\n",
       "      <th>1</th>\n",
       "      <td>Class</td>\n",
       "      <td>http://cmt#ProgramCommitteeMember</td>\n",
       "      <td>-</td>\n",
       "      <td>AttributeDomainRestriction</td>\n",
       "      <td>onAttribute: Relation(http://conference#was_a_...</td>\n",
       "      <td>-</td>\n",
       "      <td>Complex</td>\n",
       "      <td>1.0</td>\n",
       "      <td>=</td>\n",
       "    </tr>\n",
       "    <tr>\n",
       "      <th>2</th>\n",
       "      <td>Class</td>\n",
       "      <td>http://cmt#PaperAbstract</td>\n",
       "      <td>-</td>\n",
       "      <td>Class</td>\n",
       "      <td>http://conference#Extended_abstract</td>\n",
       "      <td>-</td>\n",
       "      <td>Simple</td>\n",
       "      <td>1.0</td>\n",
       "      <td>=</td>\n",
       "    </tr>\n",
       "    <tr>\n",
       "      <th>3</th>\n",
       "      <td>Class</td>\n",
       "      <td>http://cmt#Co-author</td>\n",
       "      <td>-</td>\n",
       "      <td>Class</td>\n",
       "      <td>http://conference#Contribution_co-author</td>\n",
       "      <td>-</td>\n",
       "      <td>Simple</td>\n",
       "      <td>1.0</td>\n",
       "      <td>=</td>\n",
       "    </tr>\n",
       "    <tr>\n",
       "      <th>4</th>\n",
       "      <td>Class</td>\n",
       "      <td>http://cmt#ExternalReviewer</td>\n",
       "      <td>-</td>\n",
       "      <td>AttributeOccurenceRestriction</td>\n",
       "      <td>onAttribute: Relation(http://conference#invite...</td>\n",
       "      <td>-</td>\n",
       "      <td>Complex</td>\n",
       "      <td>1.0</td>\n",
       "      <td>=</td>\n",
       "    </tr>\n",
       "  </tbody>\n",
       "</table>\n",
       "</div>"
      ],
      "text/plain": [
       "  ent1_type                            entity1 constructor1  \\\n",
       "0     Class                   http://cmt#Paper            -   \n",
       "1     Class  http://cmt#ProgramCommitteeMember            -   \n",
       "2     Class           http://cmt#PaperAbstract            -   \n",
       "3     Class               http://cmt#Co-author            -   \n",
       "4     Class        http://cmt#ExternalReviewer            -   \n",
       "\n",
       "                       ent2_type  \\\n",
       "0                          Class   \n",
       "1     AttributeDomainRestriction   \n",
       "2                          Class   \n",
       "3                          Class   \n",
       "4  AttributeOccurenceRestriction   \n",
       "\n",
       "                                             entity2 constructor2  \\\n",
       "0          http://conference#Conference_contribution            -   \n",
       "1  onAttribute: Relation(http://conference#was_a_...            -   \n",
       "2                http://conference#Extended_abstract            -   \n",
       "3           http://conference#Contribution_co-author            -   \n",
       "4  onAttribute: Relation(http://conference#invite...            -   \n",
       "\n",
       "  type_of_alignment  measure relation  \n",
       "0            Simple      1.0        =  \n",
       "1           Complex      1.0        =  \n",
       "2            Simple      1.0        =  \n",
       "3            Simple      1.0        =  \n",
       "4           Complex      1.0        =  "
      ]
     },
     "execution_count": 3,
     "metadata": {},
     "output_type": "execute_result"
    }
   ],
   "source": [
    "path = os.path.join(\"data\", \"cmt-conference-PGARM.edoal\")\n",
    "df_PGARM = p.extract_mappings(path)\n",
    "df_PGARM.head()"
   ]
  },
  {
   "cell_type": "code",
   "execution_count": 4,
   "metadata": {},
   "outputs": [],
   "source": [
    "#Save to csv if you wish\n",
    "df_PGARM.to_csv(os.path.join(\"data\",\"cmt-conference-PGARM.csv\"), index=False)"
   ]
  },
  {
   "cell_type": "markdown",
   "metadata": {},
   "source": [
    "### Evaluation\n",
    "\n",
    "A simple exact match based evaluation is also available in this tool. There are three modes:\n",
    "- Missing: shows mappings that are contemplated in the reference alignment, but aren't present in the candidate alignment (i.e. false negatives)\n",
    "- Found: shows mappings that are both in the candidate alignment and reference alignments (i.e. true positives)\n",
    "- Full: shows all mappings that were contemplated in the candidate and reference alignments"
   ]
  },
  {
   "cell_type": "code",
   "execution_count": 5,
   "metadata": {},
   "outputs": [],
   "source": [
    "ref_path = os.path.join(\"data\", \"cmt-conference-REF.edoal\")\n",
    "df_eval1 = pref.evaluate(df_PGARM, ref_path, \"missing\")\n",
    "df_eval2 = pref.evaluate(df_PGARM, ref_path, \"found\")\n",
    "df_eval3 = pref.evaluate(df_PGARM, ref_path, \"full\")"
   ]
  },
  {
   "cell_type": "code",
   "execution_count": 6,
   "metadata": {},
   "outputs": [
    {
     "name": "stdout",
     "output_type": "stream",
     "text": [
      "Missing 26 mappings from the reference\n",
      "Found 9 mappings from the reference\n",
      "Total of 56 mappings\n"
     ]
    }
   ],
   "source": [
    "print(\"Missing\", df_eval1.shape[0], \"mappings from the reference\")\n",
    "print(\"Found\", df_eval2.shape[0], \"mappings from the reference\")\n",
    "print(\"Total of\", df_eval3.shape[0], \"mappings\")"
   ]
  },
  {
   "cell_type": "markdown",
   "metadata": {},
   "source": [
    "## Enslaved example"
   ]
  },
  {
   "cell_type": "code",
   "execution_count": 7,
   "metadata": {},
   "outputs": [
    {
     "data": {
      "text/html": [
       "<div>\n",
       "<style scoped>\n",
       "    .dataframe tbody tr th:only-of-type {\n",
       "        vertical-align: middle;\n",
       "    }\n",
       "\n",
       "    .dataframe tbody tr th {\n",
       "        vertical-align: top;\n",
       "    }\n",
       "\n",
       "    .dataframe thead th {\n",
       "        text-align: right;\n",
       "    }\n",
       "</style>\n",
       "<table border=\"1\" class=\"dataframe\">\n",
       "  <thead>\n",
       "    <tr style=\"text-align: right;\">\n",
       "      <th></th>\n",
       "      <th>ent1_type</th>\n",
       "      <th>entity1</th>\n",
       "      <th>constructor1</th>\n",
       "      <th>ent2_type</th>\n",
       "      <th>entity2</th>\n",
       "      <th>constructor2</th>\n",
       "      <th>type_of_alignment</th>\n",
       "      <th>measure</th>\n",
       "      <th>relation</th>\n",
       "    </tr>\n",
       "  </thead>\n",
       "  <tbody>\n",
       "    <tr>\n",
       "      <th>0</th>\n",
       "      <td>Class</td>\n",
       "      <td>https://enslaved.org/ontology/PlaceTypeCV</td>\n",
       "      <td>-</td>\n",
       "      <td>Class</td>\n",
       "      <td>https://lod.enslaved.org/entity/Q205</td>\n",
       "      <td>-</td>\n",
       "      <td>Simple</td>\n",
       "      <td>1.0</td>\n",
       "      <td>&gt;</td>\n",
       "    </tr>\n",
       "    <tr>\n",
       "      <th>1</th>\n",
       "      <td>Class</td>\n",
       "      <td>https://enslaved.org/ontology/Place</td>\n",
       "      <td>-</td>\n",
       "      <td>Class</td>\n",
       "      <td>https://lod.enslaved.org/entity/Q301</td>\n",
       "      <td>-</td>\n",
       "      <td>Simple</td>\n",
       "      <td>1.0</td>\n",
       "      <td>=</td>\n",
       "    </tr>\n",
       "    <tr>\n",
       "      <th>2</th>\n",
       "      <td>Class</td>\n",
       "      <td>https://enslaved.org/ontology/EntityWithProven...</td>\n",
       "      <td>-</td>\n",
       "      <td>Class</td>\n",
       "      <td>https://lod.enslaved.org/entity/Q67</td>\n",
       "      <td>-</td>\n",
       "      <td>Simple</td>\n",
       "      <td>1.0</td>\n",
       "      <td>=</td>\n",
       "    </tr>\n",
       "    <tr>\n",
       "      <th>3</th>\n",
       "      <td>Class</td>\n",
       "      <td>https://enslaved.org/ontology/Event</td>\n",
       "      <td>-</td>\n",
       "      <td>Class</td>\n",
       "      <td>https://lod.enslaved.org/entity/Q238</td>\n",
       "      <td>-</td>\n",
       "      <td>Simple</td>\n",
       "      <td>1.0</td>\n",
       "      <td>=</td>\n",
       "    </tr>\n",
       "    <tr>\n",
       "      <th>4</th>\n",
       "      <td>Class</td>\n",
       "      <td>https://enslaved.org/ontology/AgeRecord</td>\n",
       "      <td>-</td>\n",
       "      <td>Class</td>\n",
       "      <td>http://wikiba.se/ontology#Statement</td>\n",
       "      <td>-</td>\n",
       "      <td>Simple</td>\n",
       "      <td>1.0</td>\n",
       "      <td>&lt;</td>\n",
       "    </tr>\n",
       "  </tbody>\n",
       "</table>\n",
       "</div>"
      ],
      "text/plain": [
       "  ent1_type                                            entity1 constructor1  \\\n",
       "0     Class          https://enslaved.org/ontology/PlaceTypeCV            -   \n",
       "1     Class                https://enslaved.org/ontology/Place            -   \n",
       "2     Class  https://enslaved.org/ontology/EntityWithProven...            -   \n",
       "3     Class                https://enslaved.org/ontology/Event            -   \n",
       "4     Class            https://enslaved.org/ontology/AgeRecord            -   \n",
       "\n",
       "  ent2_type                               entity2 constructor2  \\\n",
       "0     Class  https://lod.enslaved.org/entity/Q205            -   \n",
       "1     Class  https://lod.enslaved.org/entity/Q301            -   \n",
       "2     Class   https://lod.enslaved.org/entity/Q67            -   \n",
       "3     Class  https://lod.enslaved.org/entity/Q238            -   \n",
       "4     Class   http://wikiba.se/ontology#Statement            -   \n",
       "\n",
       "  type_of_alignment  measure relation  \n",
       "0            Simple      1.0        >  \n",
       "1            Simple      1.0        =  \n",
       "2            Simple      1.0        =  \n",
       "3            Simple      1.0        =  \n",
       "4            Simple      1.0        <  "
      ]
     },
     "execution_count": 7,
     "metadata": {},
     "output_type": "execute_result"
    }
   ],
   "source": [
    "path = os.path.join(\"data\",\"enslaved.rdf\")\n",
    "df_enslaved = p.extract_mappings(path)\n",
    "df_enslaved.head()"
   ]
  },
  {
   "cell_type": "markdown",
   "metadata": {},
   "source": [
    "Entities from the second ontology (entity2) have IDs instead of proper names, so we can use a method to fetch more intelligeble labels from the ontology file."
   ]
  },
  {
   "cell_type": "code",
   "execution_count": 8,
   "metadata": {
    "scrolled": true
   },
   "outputs": [
    {
     "data": {
      "text/plain": [
       "'Person Status'"
      ]
     },
     "execution_count": 8,
     "metadata": {},
     "output_type": "execute_result"
    }
   ],
   "source": [
    "labels = p.get_labels(os.path.join(\"data\",\"wikidataKG.owl\"))\n",
    "labels['https://lod.enslaved.org/entity/Q375']"
   ]
  },
  {
   "cell_type": "code",
   "execution_count": 9,
   "metadata": {},
   "outputs": [
    {
     "data": {
      "text/html": [
       "<div>\n",
       "<style scoped>\n",
       "    .dataframe tbody tr th:only-of-type {\n",
       "        vertical-align: middle;\n",
       "    }\n",
       "\n",
       "    .dataframe tbody tr th {\n",
       "        vertical-align: top;\n",
       "    }\n",
       "\n",
       "    .dataframe thead th {\n",
       "        text-align: right;\n",
       "    }\n",
       "</style>\n",
       "<table border=\"1\" class=\"dataframe\">\n",
       "  <thead>\n",
       "    <tr style=\"text-align: right;\">\n",
       "      <th></th>\n",
       "      <th>ent1_type</th>\n",
       "      <th>entity1</th>\n",
       "      <th>constructor1</th>\n",
       "      <th>ent2_type</th>\n",
       "      <th>entity2</th>\n",
       "      <th>constructor2</th>\n",
       "      <th>type_of_alignment</th>\n",
       "      <th>measure</th>\n",
       "      <th>relation</th>\n",
       "    </tr>\n",
       "  </thead>\n",
       "  <tbody>\n",
       "    <tr>\n",
       "      <th>0</th>\n",
       "      <td>Class</td>\n",
       "      <td>https://enslaved.org/ontology/PlaceTypeCV</td>\n",
       "      <td>-</td>\n",
       "      <td>Class</td>\n",
       "      <td>Controlled Vocabulary for Place Type</td>\n",
       "      <td>-</td>\n",
       "      <td>Simple</td>\n",
       "      <td>1.0</td>\n",
       "      <td>&gt;</td>\n",
       "    </tr>\n",
       "    <tr>\n",
       "      <th>1</th>\n",
       "      <td>Class</td>\n",
       "      <td>https://enslaved.org/ontology/Place</td>\n",
       "      <td>-</td>\n",
       "      <td>Class</td>\n",
       "      <td>Place</td>\n",
       "      <td>-</td>\n",
       "      <td>Simple</td>\n",
       "      <td>1.0</td>\n",
       "      <td>=</td>\n",
       "    </tr>\n",
       "    <tr>\n",
       "      <th>2</th>\n",
       "      <td>Class</td>\n",
       "      <td>https://enslaved.org/ontology/EntityWithProven...</td>\n",
       "      <td>-</td>\n",
       "      <td>Class</td>\n",
       "      <td>Entity with Provenance</td>\n",
       "      <td>-</td>\n",
       "      <td>Simple</td>\n",
       "      <td>1.0</td>\n",
       "      <td>=</td>\n",
       "    </tr>\n",
       "    <tr>\n",
       "      <th>3</th>\n",
       "      <td>Class</td>\n",
       "      <td>https://enslaved.org/ontology/Event</td>\n",
       "      <td>-</td>\n",
       "      <td>Class</td>\n",
       "      <td>Event</td>\n",
       "      <td>-</td>\n",
       "      <td>Simple</td>\n",
       "      <td>1.0</td>\n",
       "      <td>=</td>\n",
       "    </tr>\n",
       "    <tr>\n",
       "      <th>4</th>\n",
       "      <td>Class</td>\n",
       "      <td>https://enslaved.org/ontology/AgeRecord</td>\n",
       "      <td>-</td>\n",
       "      <td>Class</td>\n",
       "      <td>http://wikiba.se/ontology#Statement</td>\n",
       "      <td>-</td>\n",
       "      <td>Simple</td>\n",
       "      <td>1.0</td>\n",
       "      <td>&lt;</td>\n",
       "    </tr>\n",
       "  </tbody>\n",
       "</table>\n",
       "</div>"
      ],
      "text/plain": [
       "  ent1_type                                            entity1 constructor1  \\\n",
       "0     Class          https://enslaved.org/ontology/PlaceTypeCV            -   \n",
       "1     Class                https://enslaved.org/ontology/Place            -   \n",
       "2     Class  https://enslaved.org/ontology/EntityWithProven...            -   \n",
       "3     Class                https://enslaved.org/ontology/Event            -   \n",
       "4     Class            https://enslaved.org/ontology/AgeRecord            -   \n",
       "\n",
       "  ent2_type                               entity2 constructor2  \\\n",
       "0     Class  Controlled Vocabulary for Place Type            -   \n",
       "1     Class                                 Place            -   \n",
       "2     Class                Entity with Provenance            -   \n",
       "3     Class                                 Event            -   \n",
       "4     Class   http://wikiba.se/ontology#Statement            -   \n",
       "\n",
       "  type_of_alignment  measure relation  \n",
       "0            Simple      1.0        >  \n",
       "1            Simple      1.0        =  \n",
       "2            Simple      1.0        =  \n",
       "3            Simple      1.0        =  \n",
       "4            Simple      1.0        <  "
      ]
     },
     "execution_count": 9,
     "metadata": {},
     "output_type": "execute_result"
    }
   ],
   "source": [
    "p.replace_labels(df_enslaved, \"entity2\", labels).head()"
   ]
  },
  {
   "cell_type": "markdown",
   "metadata": {},
   "source": [
    "# Some statistics"
   ]
  },
  {
   "cell_type": "markdown",
   "metadata": {},
   "source": [
    "### Mapping types"
   ]
  },
  {
   "cell_type": "code",
   "execution_count": 10,
   "metadata": {},
   "outputs": [
    {
     "data": {
      "text/html": [
       "<div>\n",
       "<style scoped>\n",
       "    .dataframe tbody tr th:only-of-type {\n",
       "        vertical-align: middle;\n",
       "    }\n",
       "\n",
       "    .dataframe tbody tr th {\n",
       "        vertical-align: top;\n",
       "    }\n",
       "\n",
       "    .dataframe thead th {\n",
       "        text-align: right;\n",
       "    }\n",
       "</style>\n",
       "<table border=\"1\" class=\"dataframe\">\n",
       "  <thead>\n",
       "    <tr style=\"text-align: right;\">\n",
       "      <th></th>\n",
       "      <th>ent1_type</th>\n",
       "      <th>ent2_type</th>\n",
       "      <th>Count</th>\n",
       "    </tr>\n",
       "  </thead>\n",
       "  <tbody>\n",
       "    <tr>\n",
       "      <th>0</th>\n",
       "      <td>AttributeDomainRestriction</td>\n",
       "      <td>Class</td>\n",
       "      <td>1</td>\n",
       "    </tr>\n",
       "    <tr>\n",
       "      <th>1</th>\n",
       "      <td>AttributeOccurenceRestriction</td>\n",
       "      <td>Class</td>\n",
       "      <td>1</td>\n",
       "    </tr>\n",
       "    <tr>\n",
       "      <th>2</th>\n",
       "      <td>Class</td>\n",
       "      <td>AttributeDomainRestriction</td>\n",
       "      <td>2</td>\n",
       "    </tr>\n",
       "    <tr>\n",
       "      <th>3</th>\n",
       "      <td>Class</td>\n",
       "      <td>AttributeOccurenceRestriction</td>\n",
       "      <td>1</td>\n",
       "    </tr>\n",
       "    <tr>\n",
       "      <th>4</th>\n",
       "      <td>Class</td>\n",
       "      <td>Class</td>\n",
       "      <td>17</td>\n",
       "    </tr>\n",
       "    <tr>\n",
       "      <th>5</th>\n",
       "      <td>Relation</td>\n",
       "      <td>Relation</td>\n",
       "      <td>8</td>\n",
       "    </tr>\n",
       "  </tbody>\n",
       "</table>\n",
       "</div>"
      ],
      "text/plain": [
       "                       ent1_type                      ent2_type  Count\n",
       "0     AttributeDomainRestriction                          Class      1\n",
       "1  AttributeOccurenceRestriction                          Class      1\n",
       "2                          Class     AttributeDomainRestriction      2\n",
       "3                          Class  AttributeOccurenceRestriction      1\n",
       "4                          Class                          Class     17\n",
       "5                       Relation                       Relation      8"
      ]
     },
     "execution_count": 10,
     "metadata": {},
     "output_type": "execute_result"
    }
   ],
   "source": [
    "p.check_mapping_types(df_PGARM)"
   ]
  },
  {
   "cell_type": "markdown",
   "metadata": {},
   "source": [
    "### Simple vs complex mappings"
   ]
  },
  {
   "cell_type": "code",
   "execution_count": 11,
   "metadata": {},
   "outputs": [
    {
     "data": {
      "text/plain": [
       "Complex    17\n",
       "Simple     13\n",
       "Name: type_of_alignment, dtype: int64"
      ]
     },
     "execution_count": 11,
     "metadata": {},
     "output_type": "execute_result"
    }
   ],
   "source": [
    "#Simple vs complex mappings\n",
    "df_PGARM['type_of_alignment'].value_counts()"
   ]
  }
 ],
 "metadata": {
  "kernelspec": {
   "display_name": "Python 3",
   "language": "python",
   "name": "python3"
  },
  "language_info": {
   "codemirror_mode": {
    "name": "ipython",
    "version": 3
   },
   "file_extension": ".py",
   "mimetype": "text/x-python",
   "name": "python",
   "nbconvert_exporter": "python",
   "pygments_lexer": "ipython3",
   "version": "3.7.9"
  }
 },
 "nbformat": 4,
 "nbformat_minor": 4
}
